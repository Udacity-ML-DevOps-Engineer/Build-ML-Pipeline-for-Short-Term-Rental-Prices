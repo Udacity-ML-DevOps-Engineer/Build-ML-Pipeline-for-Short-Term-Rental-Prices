{
 "cells": [
  {
   "cell_type": "code",
   "execution_count": 1,
   "id": "af1b65e2-c9d8-4479-afea-b75dc48132d9",
   "metadata": {},
   "outputs": [],
   "source": [
    "import wandb\n",
    "import pandas as pd"
   ]
  },
  {
   "cell_type": "code",
   "execution_count": 2,
   "id": "d8e2b3e6-0094-4297-b7ed-a84509383fb3",
   "metadata": {},
   "outputs": [
    {
     "name": "stderr",
     "output_type": "stream",
     "text": [
      "\u001b[34m\u001b[1mwandb\u001b[0m: Currently logged in as: \u001b[33msamhmariam\u001b[0m. Use \u001b[1m`wandb login --relogin`\u001b[0m to force relogin\n"
     ]
    },
    {
     "data": {
      "text/html": [
       "wandb version 0.18.5 is available!  To upgrade, please run:\n",
       " $ pip install wandb --upgrade"
      ],
      "text/plain": [
       "<IPython.core.display.HTML object>"
      ]
     },
     "metadata": {},
     "output_type": "display_data"
    },
    {
     "data": {
      "text/html": [
       "Tracking run with wandb version 0.16.0"
      ],
      "text/plain": [
       "<IPython.core.display.HTML object>"
      ]
     },
     "metadata": {},
     "output_type": "display_data"
    },
    {
     "data": {
      "text/html": [
       "Run data is saved locally in <code>/mnt/c/Users/samue/Downloads/Udacity/ML DevOps/build-ml-pipeline-for-short-term-rental-prices/src/eda/wandb/run-20241102_154740-5wghwekt</code>"
      ],
      "text/plain": [
       "<IPython.core.display.HTML object>"
      ]
     },
     "metadata": {},
     "output_type": "display_data"
    },
    {
     "data": {
      "text/html": [
       "Syncing run <strong><a href='https://wandb.ai/samhmariam/nyc_airbnb/runs/5wghwekt' target=\"_blank\">snowy-snowflake-7</a></strong> to <a href='https://wandb.ai/samhmariam/nyc_airbnb' target=\"_blank\">Weights & Biases</a> (<a href='https://wandb.me/run' target=\"_blank\">docs</a>)<br/>"
      ],
      "text/plain": [
       "<IPython.core.display.HTML object>"
      ]
     },
     "metadata": {},
     "output_type": "display_data"
    },
    {
     "data": {
      "text/html": [
       " View project at <a href='https://wandb.ai/samhmariam/nyc_airbnb' target=\"_blank\">https://wandb.ai/samhmariam/nyc_airbnb</a>"
      ],
      "text/plain": [
       "<IPython.core.display.HTML object>"
      ]
     },
     "metadata": {},
     "output_type": "display_data"
    },
    {
     "data": {
      "text/html": [
       " View run at <a href='https://wandb.ai/samhmariam/nyc_airbnb/runs/5wghwekt' target=\"_blank\">https://wandb.ai/samhmariam/nyc_airbnb/runs/5wghwekt</a>"
      ],
      "text/plain": [
       "<IPython.core.display.HTML object>"
      ]
     },
     "metadata": {},
     "output_type": "display_data"
    }
   ],
   "source": [
    "run = wandb.init(project=\"nyc_airbnb\", group=\"eda\", save_code=True)\n",
    "local_path = wandb.use_artifact(\"sample.csv:latest\").file()"
   ]
  },
  {
   "cell_type": "code",
   "execution_count": 3,
   "id": "1c3cc4b2-e47b-48b7-b082-364b382179eb",
   "metadata": {},
   "outputs": [],
   "source": [
    "df = pd.read_csv(local_path)"
   ]
  },
  {
   "cell_type": "code",
   "execution_count": 4,
   "id": "d8eec0ac-84b9-4c6d-898a-91a405b52f54",
   "metadata": {},
   "outputs": [
    {
     "name": "stderr",
     "output_type": "stream",
     "text": [
      "/home/samhmariam/miniconda3/envs/mlflow-8a775b8fb53b8ac0494c5e0a7fa9653f8ba5cb58/lib/python3.10/site-packages/tqdm/auto.py:22: TqdmWarning: IProgress not found. Please update jupyter and ipywidgets. See https://ipywidgets.readthedocs.io/en/stable/user_install.html\n",
      "  from .autonotebook import tqdm as notebook_tqdm\n"
     ]
    }
   ],
   "source": [
    "import pandas_profiling\n",
    "\n"
   ]
  },
  {
   "cell_type": "code",
   "execution_count": 5,
   "id": "3edcf668-39ce-4525-9d8b-52a6b069f020",
   "metadata": {},
   "outputs": [
    {
     "name": "stdout",
     "output_type": "stream",
     "text": [
      "Collecting ipywidgets\n",
      "  Using cached ipywidgets-8.1.5-py3-none-any.whl.metadata (2.3 kB)\n",
      "Requirement already satisfied: comm>=0.1.3 in /home/samhmariam/miniconda3/envs/mlflow-8a775b8fb53b8ac0494c5e0a7fa9653f8ba5cb58/lib/python3.10/site-packages (from ipywidgets) (0.2.2)\n",
      "Requirement already satisfied: ipython>=6.1.0 in /home/samhmariam/miniconda3/envs/mlflow-8a775b8fb53b8ac0494c5e0a7fa9653f8ba5cb58/lib/python3.10/site-packages (from ipywidgets) (8.29.0)\n",
      "Requirement already satisfied: traitlets>=4.3.1 in /home/samhmariam/miniconda3/envs/mlflow-8a775b8fb53b8ac0494c5e0a7fa9653f8ba5cb58/lib/python3.10/site-packages (from ipywidgets) (5.14.3)\n",
      "Collecting widgetsnbextension~=4.0.12 (from ipywidgets)\n",
      "  Using cached widgetsnbextension-4.0.13-py3-none-any.whl.metadata (1.6 kB)\n",
      "Collecting jupyterlab-widgets~=3.0.12 (from ipywidgets)\n",
      "  Using cached jupyterlab_widgets-3.0.13-py3-none-any.whl.metadata (4.1 kB)\n",
      "Requirement already satisfied: decorator in /home/samhmariam/miniconda3/envs/mlflow-8a775b8fb53b8ac0494c5e0a7fa9653f8ba5cb58/lib/python3.10/site-packages (from ipython>=6.1.0->ipywidgets) (5.1.1)\n",
      "Requirement already satisfied: jedi>=0.16 in /home/samhmariam/miniconda3/envs/mlflow-8a775b8fb53b8ac0494c5e0a7fa9653f8ba5cb58/lib/python3.10/site-packages (from ipython>=6.1.0->ipywidgets) (0.19.1)\n",
      "Requirement already satisfied: matplotlib-inline in /home/samhmariam/miniconda3/envs/mlflow-8a775b8fb53b8ac0494c5e0a7fa9653f8ba5cb58/lib/python3.10/site-packages (from ipython>=6.1.0->ipywidgets) (0.1.7)\n",
      "Requirement already satisfied: prompt-toolkit<3.1.0,>=3.0.41 in /home/samhmariam/miniconda3/envs/mlflow-8a775b8fb53b8ac0494c5e0a7fa9653f8ba5cb58/lib/python3.10/site-packages (from ipython>=6.1.0->ipywidgets) (3.0.48)\n",
      "Requirement already satisfied: pygments>=2.4.0 in /home/samhmariam/miniconda3/envs/mlflow-8a775b8fb53b8ac0494c5e0a7fa9653f8ba5cb58/lib/python3.10/site-packages (from ipython>=6.1.0->ipywidgets) (2.18.0)\n",
      "Requirement already satisfied: stack-data in /home/samhmariam/miniconda3/envs/mlflow-8a775b8fb53b8ac0494c5e0a7fa9653f8ba5cb58/lib/python3.10/site-packages (from ipython>=6.1.0->ipywidgets) (0.6.2)\n",
      "Requirement already satisfied: exceptiongroup in /home/samhmariam/miniconda3/envs/mlflow-8a775b8fb53b8ac0494c5e0a7fa9653f8ba5cb58/lib/python3.10/site-packages (from ipython>=6.1.0->ipywidgets) (1.2.2)\n",
      "Requirement already satisfied: typing-extensions>=4.6 in /home/samhmariam/miniconda3/envs/mlflow-8a775b8fb53b8ac0494c5e0a7fa9653f8ba5cb58/lib/python3.10/site-packages (from ipython>=6.1.0->ipywidgets) (4.12.2)\n",
      "Requirement already satisfied: pexpect>4.3 in /home/samhmariam/miniconda3/envs/mlflow-8a775b8fb53b8ac0494c5e0a7fa9653f8ba5cb58/lib/python3.10/site-packages (from ipython>=6.1.0->ipywidgets) (4.9.0)\n",
      "Requirement already satisfied: parso<0.9.0,>=0.8.3 in /home/samhmariam/miniconda3/envs/mlflow-8a775b8fb53b8ac0494c5e0a7fa9653f8ba5cb58/lib/python3.10/site-packages (from jedi>=0.16->ipython>=6.1.0->ipywidgets) (0.8.4)\n",
      "Requirement already satisfied: ptyprocess>=0.5 in /home/samhmariam/miniconda3/envs/mlflow-8a775b8fb53b8ac0494c5e0a7fa9653f8ba5cb58/lib/python3.10/site-packages (from pexpect>4.3->ipython>=6.1.0->ipywidgets) (0.7.0)\n",
      "Requirement already satisfied: wcwidth in /home/samhmariam/miniconda3/envs/mlflow-8a775b8fb53b8ac0494c5e0a7fa9653f8ba5cb58/lib/python3.10/site-packages (from prompt-toolkit<3.1.0,>=3.0.41->ipython>=6.1.0->ipywidgets) (0.2.13)\n",
      "Requirement already satisfied: executing>=1.2.0 in /home/samhmariam/miniconda3/envs/mlflow-8a775b8fb53b8ac0494c5e0a7fa9653f8ba5cb58/lib/python3.10/site-packages (from stack-data->ipython>=6.1.0->ipywidgets) (2.1.0)\n",
      "Requirement already satisfied: asttokens>=2.1.0 in /home/samhmariam/miniconda3/envs/mlflow-8a775b8fb53b8ac0494c5e0a7fa9653f8ba5cb58/lib/python3.10/site-packages (from stack-data->ipython>=6.1.0->ipywidgets) (2.4.1)\n",
      "Requirement already satisfied: pure-eval in /home/samhmariam/miniconda3/envs/mlflow-8a775b8fb53b8ac0494c5e0a7fa9653f8ba5cb58/lib/python3.10/site-packages (from stack-data->ipython>=6.1.0->ipywidgets) (0.2.3)\n",
      "Requirement already satisfied: six>=1.12.0 in /home/samhmariam/miniconda3/envs/mlflow-8a775b8fb53b8ac0494c5e0a7fa9653f8ba5cb58/lib/python3.10/site-packages (from asttokens>=2.1.0->stack-data->ipython>=6.1.0->ipywidgets) (1.16.0)\n",
      "Using cached ipywidgets-8.1.5-py3-none-any.whl (139 kB)\n",
      "Using cached jupyterlab_widgets-3.0.13-py3-none-any.whl (214 kB)\n",
      "Using cached widgetsnbextension-4.0.13-py3-none-any.whl (2.3 MB)\n",
      "Installing collected packages: widgetsnbextension, jupyterlab-widgets, ipywidgets\n",
      "Successfully installed ipywidgets-8.1.5 jupyterlab-widgets-3.0.13 widgetsnbextension-4.0.13\n"
     ]
    }
   ],
   "source": [
    "!pip install ipywidgets"
   ]
  },
  {
   "cell_type": "code",
   "execution_count": 8,
   "id": "bfb86a2c-c337-405c-a954-ff73eda9bc4b",
   "metadata": {},
   "outputs": [
    {
     "name": "stdout",
     "output_type": "stream",
     "text": [
      "Collecting jupyter_contrib_nbextensions\n",
      "  Using cached jupyter_contrib_nbextensions-0.7.0.tar.gz (23.5 MB)\n",
      "  Preparing metadata (setup.py) ... \u001b[?25ldone\n",
      "\u001b[?25hCollecting ipython_genutils (from jupyter_contrib_nbextensions)\n",
      "  Using cached ipython_genutils-0.2.0-py2.py3-none-any.whl.metadata (755 bytes)\n",
      "Collecting jupyter_contrib_core>=0.3.3 (from jupyter_contrib_nbextensions)\n",
      "  Using cached jupyter_contrib_core-0.4.2.tar.gz (17 kB)\n",
      "  Preparing metadata (setup.py) ... \u001b[?25ldone\n",
      "\u001b[?25hRequirement already satisfied: jupyter_core in /home/samhmariam/miniconda3/envs/mlflow-8a775b8fb53b8ac0494c5e0a7fa9653f8ba5cb58/lib/python3.10/site-packages (from jupyter_contrib_nbextensions) (5.7.2)\n",
      "Collecting jupyter_highlight_selected_word>=0.1.1 (from jupyter_contrib_nbextensions)\n",
      "  Using cached jupyter_highlight_selected_word-0.2.0-py2.py3-none-any.whl.metadata (730 bytes)\n",
      "Collecting jupyter_nbextensions_configurator>=0.4.0 (from jupyter_contrib_nbextensions)\n",
      "  Using cached jupyter_nbextensions_configurator-0.6.4-py2.py3-none-any.whl.metadata (1.8 kB)\n",
      "Requirement already satisfied: nbconvert>=6.0 in /home/samhmariam/miniconda3/envs/mlflow-8a775b8fb53b8ac0494c5e0a7fa9653f8ba5cb58/lib/python3.10/site-packages (from jupyter_contrib_nbextensions) (7.16.4)\n",
      "Collecting notebook>=6.0 (from jupyter_contrib_nbextensions)\n",
      "  Using cached notebook-7.2.2-py3-none-any.whl.metadata (10 kB)\n",
      "Requirement already satisfied: tornado in /home/samhmariam/miniconda3/envs/mlflow-8a775b8fb53b8ac0494c5e0a7fa9653f8ba5cb58/lib/python3.10/site-packages (from jupyter_contrib_nbextensions) (6.4.1)\n",
      "Requirement already satisfied: traitlets>=4.1 in /home/samhmariam/miniconda3/envs/mlflow-8a775b8fb53b8ac0494c5e0a7fa9653f8ba5cb58/lib/python3.10/site-packages (from jupyter_contrib_nbextensions) (5.14.3)\n",
      "Collecting lxml (from jupyter_contrib_nbextensions)\n",
      "  Downloading lxml-5.3.0-cp310-cp310-manylinux_2_28_x86_64.whl.metadata (3.8 kB)\n",
      "Requirement already satisfied: setuptools in /home/samhmariam/miniconda3/envs/mlflow-8a775b8fb53b8ac0494c5e0a7fa9653f8ba5cb58/lib/python3.10/site-packages (from jupyter_contrib_core>=0.3.3->jupyter_contrib_nbextensions) (59.8.0)\n",
      "Requirement already satisfied: jupyter-server in /home/samhmariam/miniconda3/envs/mlflow-8a775b8fb53b8ac0494c5e0a7fa9653f8ba5cb58/lib/python3.10/site-packages (from jupyter_nbextensions_configurator>=0.4.0->jupyter_contrib_nbextensions) (2.14.2)\n",
      "Requirement already satisfied: pyyaml in /home/samhmariam/miniconda3/envs/mlflow-8a775b8fb53b8ac0494c5e0a7fa9653f8ba5cb58/lib/python3.10/site-packages (from jupyter_nbextensions_configurator>=0.4.0->jupyter_contrib_nbextensions) (6.0.2)\n",
      "Requirement already satisfied: beautifulsoup4 in /home/samhmariam/miniconda3/envs/mlflow-8a775b8fb53b8ac0494c5e0a7fa9653f8ba5cb58/lib/python3.10/site-packages (from nbconvert>=6.0->jupyter_contrib_nbextensions) (4.12.3)\n",
      "Requirement already satisfied: bleach!=5.0.0 in /home/samhmariam/miniconda3/envs/mlflow-8a775b8fb53b8ac0494c5e0a7fa9653f8ba5cb58/lib/python3.10/site-packages (from nbconvert>=6.0->jupyter_contrib_nbextensions) (6.2.0)\n",
      "Requirement already satisfied: defusedxml in /home/samhmariam/miniconda3/envs/mlflow-8a775b8fb53b8ac0494c5e0a7fa9653f8ba5cb58/lib/python3.10/site-packages (from nbconvert>=6.0->jupyter_contrib_nbextensions) (0.7.1)\n",
      "Requirement already satisfied: jinja2>=3.0 in /home/samhmariam/miniconda3/envs/mlflow-8a775b8fb53b8ac0494c5e0a7fa9653f8ba5cb58/lib/python3.10/site-packages (from nbconvert>=6.0->jupyter_contrib_nbextensions) (3.1.4)\n",
      "Requirement already satisfied: jupyterlab-pygments in /home/samhmariam/miniconda3/envs/mlflow-8a775b8fb53b8ac0494c5e0a7fa9653f8ba5cb58/lib/python3.10/site-packages (from nbconvert>=6.0->jupyter_contrib_nbextensions) (0.3.0)\n",
      "Requirement already satisfied: markupsafe>=2.0 in /home/samhmariam/miniconda3/envs/mlflow-8a775b8fb53b8ac0494c5e0a7fa9653f8ba5cb58/lib/python3.10/site-packages (from nbconvert>=6.0->jupyter_contrib_nbextensions) (3.0.2)\n",
      "Requirement already satisfied: mistune<4,>=2.0.3 in /home/samhmariam/miniconda3/envs/mlflow-8a775b8fb53b8ac0494c5e0a7fa9653f8ba5cb58/lib/python3.10/site-packages (from nbconvert>=6.0->jupyter_contrib_nbextensions) (3.0.2)\n",
      "Requirement already satisfied: nbclient>=0.5.0 in /home/samhmariam/miniconda3/envs/mlflow-8a775b8fb53b8ac0494c5e0a7fa9653f8ba5cb58/lib/python3.10/site-packages (from nbconvert>=6.0->jupyter_contrib_nbextensions) (0.10.0)\n",
      "Requirement already satisfied: nbformat>=5.7 in /home/samhmariam/miniconda3/envs/mlflow-8a775b8fb53b8ac0494c5e0a7fa9653f8ba5cb58/lib/python3.10/site-packages (from nbconvert>=6.0->jupyter_contrib_nbextensions) (5.10.4)\n",
      "Requirement already satisfied: packaging in /home/samhmariam/miniconda3/envs/mlflow-8a775b8fb53b8ac0494c5e0a7fa9653f8ba5cb58/lib/python3.10/site-packages (from nbconvert>=6.0->jupyter_contrib_nbextensions) (24.1)\n",
      "Requirement already satisfied: pandocfilters>=1.4.1 in /home/samhmariam/miniconda3/envs/mlflow-8a775b8fb53b8ac0494c5e0a7fa9653f8ba5cb58/lib/python3.10/site-packages (from nbconvert>=6.0->jupyter_contrib_nbextensions) (1.5.0)\n",
      "Requirement already satisfied: pygments>=2.4.1 in /home/samhmariam/miniconda3/envs/mlflow-8a775b8fb53b8ac0494c5e0a7fa9653f8ba5cb58/lib/python3.10/site-packages (from nbconvert>=6.0->jupyter_contrib_nbextensions) (2.18.0)\n",
      "Requirement already satisfied: tinycss2 in /home/samhmariam/miniconda3/envs/mlflow-8a775b8fb53b8ac0494c5e0a7fa9653f8ba5cb58/lib/python3.10/site-packages (from nbconvert>=6.0->jupyter_contrib_nbextensions) (1.4.0)\n",
      "Requirement already satisfied: platformdirs>=2.5 in /home/samhmariam/miniconda3/envs/mlflow-8a775b8fb53b8ac0494c5e0a7fa9653f8ba5cb58/lib/python3.10/site-packages (from jupyter_core->jupyter_contrib_nbextensions) (4.3.6)\n",
      "Collecting jupyterlab-server<3,>=2.27.1 (from notebook>=6.0->jupyter_contrib_nbextensions)\n",
      "  Downloading jupyterlab_server-2.27.3-py3-none-any.whl.metadata (5.9 kB)\n",
      "Collecting jupyterlab<4.3,>=4.2.0 (from notebook>=6.0->jupyter_contrib_nbextensions)\n",
      "  Using cached jupyterlab-4.2.5-py3-none-any.whl.metadata (16 kB)\n",
      "Requirement already satisfied: notebook-shim<0.3,>=0.2 in /home/samhmariam/miniconda3/envs/mlflow-8a775b8fb53b8ac0494c5e0a7fa9653f8ba5cb58/lib/python3.10/site-packages (from notebook>=6.0->jupyter_contrib_nbextensions) (0.2.4)\n",
      "Requirement already satisfied: webencodings in /home/samhmariam/miniconda3/envs/mlflow-8a775b8fb53b8ac0494c5e0a7fa9653f8ba5cb58/lib/python3.10/site-packages (from bleach!=5.0.0->nbconvert>=6.0->jupyter_contrib_nbextensions) (0.5.1)\n",
      "Requirement already satisfied: anyio>=3.1.0 in /home/samhmariam/miniconda3/envs/mlflow-8a775b8fb53b8ac0494c5e0a7fa9653f8ba5cb58/lib/python3.10/site-packages (from jupyter-server->jupyter_nbextensions_configurator>=0.4.0->jupyter_contrib_nbextensions) (4.6.2.post1)\n",
      "Requirement already satisfied: argon2-cffi>=21.1 in /home/samhmariam/miniconda3/envs/mlflow-8a775b8fb53b8ac0494c5e0a7fa9653f8ba5cb58/lib/python3.10/site-packages (from jupyter-server->jupyter_nbextensions_configurator>=0.4.0->jupyter_contrib_nbextensions) (23.1.0)\n",
      "Requirement already satisfied: jupyter-client>=7.4.4 in /home/samhmariam/miniconda3/envs/mlflow-8a775b8fb53b8ac0494c5e0a7fa9653f8ba5cb58/lib/python3.10/site-packages (from jupyter-server->jupyter_nbextensions_configurator>=0.4.0->jupyter_contrib_nbextensions) (8.6.3)\n",
      "Requirement already satisfied: jupyter-events>=0.9.0 in /home/samhmariam/miniconda3/envs/mlflow-8a775b8fb53b8ac0494c5e0a7fa9653f8ba5cb58/lib/python3.10/site-packages (from jupyter-server->jupyter_nbextensions_configurator>=0.4.0->jupyter_contrib_nbextensions) (0.10.0)\n",
      "Requirement already satisfied: jupyter-server-terminals>=0.4.4 in /home/samhmariam/miniconda3/envs/mlflow-8a775b8fb53b8ac0494c5e0a7fa9653f8ba5cb58/lib/python3.10/site-packages (from jupyter-server->jupyter_nbextensions_configurator>=0.4.0->jupyter_contrib_nbextensions) (0.5.3)\n",
      "Requirement already satisfied: overrides>=5.0 in /home/samhmariam/miniconda3/envs/mlflow-8a775b8fb53b8ac0494c5e0a7fa9653f8ba5cb58/lib/python3.10/site-packages (from jupyter-server->jupyter_nbextensions_configurator>=0.4.0->jupyter_contrib_nbextensions) (7.7.0)\n",
      "Requirement already satisfied: prometheus-client>=0.9 in /home/samhmariam/miniconda3/envs/mlflow-8a775b8fb53b8ac0494c5e0a7fa9653f8ba5cb58/lib/python3.10/site-packages (from jupyter-server->jupyter_nbextensions_configurator>=0.4.0->jupyter_contrib_nbextensions) (0.21.0)\n",
      "Requirement already satisfied: pyzmq>=24 in /home/samhmariam/miniconda3/envs/mlflow-8a775b8fb53b8ac0494c5e0a7fa9653f8ba5cb58/lib/python3.10/site-packages (from jupyter-server->jupyter_nbextensions_configurator>=0.4.0->jupyter_contrib_nbextensions) (26.2.0)\n",
      "Requirement already satisfied: send2trash>=1.8.2 in /home/samhmariam/miniconda3/envs/mlflow-8a775b8fb53b8ac0494c5e0a7fa9653f8ba5cb58/lib/python3.10/site-packages (from jupyter-server->jupyter_nbextensions_configurator>=0.4.0->jupyter_contrib_nbextensions) (1.8.3)\n",
      "Requirement already satisfied: terminado>=0.8.3 in /home/samhmariam/miniconda3/envs/mlflow-8a775b8fb53b8ac0494c5e0a7fa9653f8ba5cb58/lib/python3.10/site-packages (from jupyter-server->jupyter_nbextensions_configurator>=0.4.0->jupyter_contrib_nbextensions) (0.18.1)\n",
      "Requirement already satisfied: websocket-client>=1.7 in /home/samhmariam/miniconda3/envs/mlflow-8a775b8fb53b8ac0494c5e0a7fa9653f8ba5cb58/lib/python3.10/site-packages (from jupyter-server->jupyter_nbextensions_configurator>=0.4.0->jupyter_contrib_nbextensions) (1.8.0)\n",
      "Requirement already satisfied: async-lru>=1.0.0 in /home/samhmariam/miniconda3/envs/mlflow-8a775b8fb53b8ac0494c5e0a7fa9653f8ba5cb58/lib/python3.10/site-packages (from jupyterlab<4.3,>=4.2.0->notebook>=6.0->jupyter_contrib_nbextensions) (2.0.4)\n",
      "Collecting httpx>=0.25.0 (from jupyterlab<4.3,>=4.2.0->notebook>=6.0->jupyter_contrib_nbextensions)\n",
      "  Using cached httpx-0.27.2-py3-none-any.whl.metadata (7.1 kB)\n",
      "Requirement already satisfied: ipykernel>=6.5.0 in /home/samhmariam/miniconda3/envs/mlflow-8a775b8fb53b8ac0494c5e0a7fa9653f8ba5cb58/lib/python3.10/site-packages (from jupyterlab<4.3,>=4.2.0->notebook>=6.0->jupyter_contrib_nbextensions) (6.29.5)\n",
      "Requirement already satisfied: jupyter-lsp>=2.0.0 in /home/samhmariam/miniconda3/envs/mlflow-8a775b8fb53b8ac0494c5e0a7fa9653f8ba5cb58/lib/python3.10/site-packages (from jupyterlab<4.3,>=4.2.0->notebook>=6.0->jupyter_contrib_nbextensions) (2.2.5)\n",
      "Requirement already satisfied: tomli>=1.2.2 in /home/samhmariam/miniconda3/envs/mlflow-8a775b8fb53b8ac0494c5e0a7fa9653f8ba5cb58/lib/python3.10/site-packages (from jupyterlab<4.3,>=4.2.0->notebook>=6.0->jupyter_contrib_nbextensions) (2.0.2)\n",
      "Requirement already satisfied: babel>=2.10 in /home/samhmariam/miniconda3/envs/mlflow-8a775b8fb53b8ac0494c5e0a7fa9653f8ba5cb58/lib/python3.10/site-packages (from jupyterlab-server<3,>=2.27.1->notebook>=6.0->jupyter_contrib_nbextensions) (2.14.0)\n",
      "Requirement already satisfied: json5>=0.9.0 in /home/samhmariam/miniconda3/envs/mlflow-8a775b8fb53b8ac0494c5e0a7fa9653f8ba5cb58/lib/python3.10/site-packages (from jupyterlab-server<3,>=2.27.1->notebook>=6.0->jupyter_contrib_nbextensions) (0.9.25)\n",
      "Requirement already satisfied: jsonschema>=4.18.0 in /home/samhmariam/miniconda3/envs/mlflow-8a775b8fb53b8ac0494c5e0a7fa9653f8ba5cb58/lib/python3.10/site-packages (from jupyterlab-server<3,>=2.27.1->notebook>=6.0->jupyter_contrib_nbextensions) (4.23.0)\n",
      "Collecting requests>=2.31 (from jupyterlab-server<3,>=2.27.1->notebook>=6.0->jupyter_contrib_nbextensions)\n",
      "  Using cached requests-2.32.3-py3-none-any.whl.metadata (4.6 kB)\n",
      "Requirement already satisfied: fastjsonschema>=2.15 in /home/samhmariam/miniconda3/envs/mlflow-8a775b8fb53b8ac0494c5e0a7fa9653f8ba5cb58/lib/python3.10/site-packages (from nbformat>=5.7->nbconvert>=6.0->jupyter_contrib_nbextensions) (2.20.0)\n",
      "Requirement already satisfied: soupsieve>1.2 in /home/samhmariam/miniconda3/envs/mlflow-8a775b8fb53b8ac0494c5e0a7fa9653f8ba5cb58/lib/python3.10/site-packages (from beautifulsoup4->nbconvert>=6.0->jupyter_contrib_nbextensions) (2.5)\n",
      "Requirement already satisfied: idna>=2.8 in /home/samhmariam/miniconda3/envs/mlflow-8a775b8fb53b8ac0494c5e0a7fa9653f8ba5cb58/lib/python3.10/site-packages (from anyio>=3.1.0->jupyter-server->jupyter_nbextensions_configurator>=0.4.0->jupyter_contrib_nbextensions) (3.10)\n",
      "Requirement already satisfied: sniffio>=1.1 in /home/samhmariam/miniconda3/envs/mlflow-8a775b8fb53b8ac0494c5e0a7fa9653f8ba5cb58/lib/python3.10/site-packages (from anyio>=3.1.0->jupyter-server->jupyter_nbextensions_configurator>=0.4.0->jupyter_contrib_nbextensions) (1.3.1)\n",
      "Requirement already satisfied: exceptiongroup>=1.0.2 in /home/samhmariam/miniconda3/envs/mlflow-8a775b8fb53b8ac0494c5e0a7fa9653f8ba5cb58/lib/python3.10/site-packages (from anyio>=3.1.0->jupyter-server->jupyter_nbextensions_configurator>=0.4.0->jupyter_contrib_nbextensions) (1.2.2)\n",
      "Requirement already satisfied: typing-extensions>=4.1 in /home/samhmariam/miniconda3/envs/mlflow-8a775b8fb53b8ac0494c5e0a7fa9653f8ba5cb58/lib/python3.10/site-packages (from anyio>=3.1.0->jupyter-server->jupyter_nbextensions_configurator>=0.4.0->jupyter_contrib_nbextensions) (4.12.2)\n",
      "Requirement already satisfied: argon2-cffi-bindings in /home/samhmariam/miniconda3/envs/mlflow-8a775b8fb53b8ac0494c5e0a7fa9653f8ba5cb58/lib/python3.10/site-packages (from argon2-cffi>=21.1->jupyter-server->jupyter_nbextensions_configurator>=0.4.0->jupyter_contrib_nbextensions) (21.2.0)\n",
      "Requirement already satisfied: certifi in /home/samhmariam/miniconda3/envs/mlflow-8a775b8fb53b8ac0494c5e0a7fa9653f8ba5cb58/lib/python3.10/site-packages (from httpx>=0.25.0->jupyterlab<4.3,>=4.2.0->notebook>=6.0->jupyter_contrib_nbextensions) (2024.8.30)\n",
      "Collecting httpcore==1.* (from httpx>=0.25.0->jupyterlab<4.3,>=4.2.0->notebook>=6.0->jupyter_contrib_nbextensions)\n",
      "  Using cached httpcore-1.0.6-py3-none-any.whl.metadata (21 kB)\n",
      "Collecting h11<0.15,>=0.13 (from httpcore==1.*->httpx>=0.25.0->jupyterlab<4.3,>=4.2.0->notebook>=6.0->jupyter_contrib_nbextensions)\n",
      "  Using cached h11-0.14.0-py3-none-any.whl.metadata (8.2 kB)\n",
      "Requirement already satisfied: comm>=0.1.1 in /home/samhmariam/miniconda3/envs/mlflow-8a775b8fb53b8ac0494c5e0a7fa9653f8ba5cb58/lib/python3.10/site-packages (from ipykernel>=6.5.0->jupyterlab<4.3,>=4.2.0->notebook>=6.0->jupyter_contrib_nbextensions) (0.2.2)\n",
      "Requirement already satisfied: debugpy>=1.6.5 in /home/samhmariam/miniconda3/envs/mlflow-8a775b8fb53b8ac0494c5e0a7fa9653f8ba5cb58/lib/python3.10/site-packages (from ipykernel>=6.5.0->jupyterlab<4.3,>=4.2.0->notebook>=6.0->jupyter_contrib_nbextensions) (1.8.7)\n",
      "Requirement already satisfied: ipython>=7.23.1 in /home/samhmariam/miniconda3/envs/mlflow-8a775b8fb53b8ac0494c5e0a7fa9653f8ba5cb58/lib/python3.10/site-packages (from ipykernel>=6.5.0->jupyterlab<4.3,>=4.2.0->notebook>=6.0->jupyter_contrib_nbextensions) (8.29.0)\n",
      "Requirement already satisfied: matplotlib-inline>=0.1 in /home/samhmariam/miniconda3/envs/mlflow-8a775b8fb53b8ac0494c5e0a7fa9653f8ba5cb58/lib/python3.10/site-packages (from ipykernel>=6.5.0->jupyterlab<4.3,>=4.2.0->notebook>=6.0->jupyter_contrib_nbextensions) (0.1.7)\n",
      "Requirement already satisfied: nest-asyncio in /home/samhmariam/miniconda3/envs/mlflow-8a775b8fb53b8ac0494c5e0a7fa9653f8ba5cb58/lib/python3.10/site-packages (from ipykernel>=6.5.0->jupyterlab<4.3,>=4.2.0->notebook>=6.0->jupyter_contrib_nbextensions) (1.6.0)\n",
      "Requirement already satisfied: psutil in /home/samhmariam/miniconda3/envs/mlflow-8a775b8fb53b8ac0494c5e0a7fa9653f8ba5cb58/lib/python3.10/site-packages (from ipykernel>=6.5.0->jupyterlab<4.3,>=4.2.0->notebook>=6.0->jupyter_contrib_nbextensions) (6.1.0)\n",
      "Requirement already satisfied: attrs>=22.2.0 in /home/samhmariam/miniconda3/envs/mlflow-8a775b8fb53b8ac0494c5e0a7fa9653f8ba5cb58/lib/python3.10/site-packages (from jsonschema>=4.18.0->jupyterlab-server<3,>=2.27.1->notebook>=6.0->jupyter_contrib_nbextensions) (24.2.0)\n",
      "Requirement already satisfied: jsonschema-specifications>=2023.03.6 in /home/samhmariam/miniconda3/envs/mlflow-8a775b8fb53b8ac0494c5e0a7fa9653f8ba5cb58/lib/python3.10/site-packages (from jsonschema>=4.18.0->jupyterlab-server<3,>=2.27.1->notebook>=6.0->jupyter_contrib_nbextensions) (2024.10.1)\n",
      "Requirement already satisfied: referencing>=0.28.4 in /home/samhmariam/miniconda3/envs/mlflow-8a775b8fb53b8ac0494c5e0a7fa9653f8ba5cb58/lib/python3.10/site-packages (from jsonschema>=4.18.0->jupyterlab-server<3,>=2.27.1->notebook>=6.0->jupyter_contrib_nbextensions) (0.35.1)\n",
      "Requirement already satisfied: rpds-py>=0.7.1 in /home/samhmariam/miniconda3/envs/mlflow-8a775b8fb53b8ac0494c5e0a7fa9653f8ba5cb58/lib/python3.10/site-packages (from jsonschema>=4.18.0->jupyterlab-server<3,>=2.27.1->notebook>=6.0->jupyter_contrib_nbextensions) (0.20.1)\n",
      "Requirement already satisfied: python-dateutil>=2.8.2 in /home/samhmariam/miniconda3/envs/mlflow-8a775b8fb53b8ac0494c5e0a7fa9653f8ba5cb58/lib/python3.10/site-packages (from jupyter-client>=7.4.4->jupyter-server->jupyter_nbextensions_configurator>=0.4.0->jupyter_contrib_nbextensions) (2.9.0)\n",
      "Requirement already satisfied: python-json-logger>=2.0.4 in /home/samhmariam/miniconda3/envs/mlflow-8a775b8fb53b8ac0494c5e0a7fa9653f8ba5cb58/lib/python3.10/site-packages (from jupyter-events>=0.9.0->jupyter-server->jupyter_nbextensions_configurator>=0.4.0->jupyter_contrib_nbextensions) (2.0.7)\n",
      "Requirement already satisfied: rfc3339-validator in /home/samhmariam/miniconda3/envs/mlflow-8a775b8fb53b8ac0494c5e0a7fa9653f8ba5cb58/lib/python3.10/site-packages (from jupyter-events>=0.9.0->jupyter-server->jupyter_nbextensions_configurator>=0.4.0->jupyter_contrib_nbextensions) (0.1.4)\n",
      "Requirement already satisfied: rfc3986-validator>=0.1.1 in /home/samhmariam/miniconda3/envs/mlflow-8a775b8fb53b8ac0494c5e0a7fa9653f8ba5cb58/lib/python3.10/site-packages (from jupyter-events>=0.9.0->jupyter-server->jupyter_nbextensions_configurator>=0.4.0->jupyter_contrib_nbextensions) (0.1.1)\n",
      "Requirement already satisfied: charset-normalizer<4,>=2 in /home/samhmariam/miniconda3/envs/mlflow-8a775b8fb53b8ac0494c5e0a7fa9653f8ba5cb58/lib/python3.10/site-packages (from requests>=2.31->jupyterlab-server<3,>=2.27.1->notebook>=6.0->jupyter_contrib_nbextensions) (3.4.0)\n",
      "Requirement already satisfied: urllib3<3,>=1.21.1 in /home/samhmariam/miniconda3/envs/mlflow-8a775b8fb53b8ac0494c5e0a7fa9653f8ba5cb58/lib/python3.10/site-packages (from requests>=2.31->jupyterlab-server<3,>=2.27.1->notebook>=6.0->jupyter_contrib_nbextensions) (1.26.19)\n",
      "Requirement already satisfied: ptyprocess in /home/samhmariam/miniconda3/envs/mlflow-8a775b8fb53b8ac0494c5e0a7fa9653f8ba5cb58/lib/python3.10/site-packages (from terminado>=0.8.3->jupyter-server->jupyter_nbextensions_configurator>=0.4.0->jupyter_contrib_nbextensions) (0.7.0)\n",
      "Requirement already satisfied: decorator in /home/samhmariam/miniconda3/envs/mlflow-8a775b8fb53b8ac0494c5e0a7fa9653f8ba5cb58/lib/python3.10/site-packages (from ipython>=7.23.1->ipykernel>=6.5.0->jupyterlab<4.3,>=4.2.0->notebook>=6.0->jupyter_contrib_nbextensions) (5.1.1)\n",
      "Requirement already satisfied: jedi>=0.16 in /home/samhmariam/miniconda3/envs/mlflow-8a775b8fb53b8ac0494c5e0a7fa9653f8ba5cb58/lib/python3.10/site-packages (from ipython>=7.23.1->ipykernel>=6.5.0->jupyterlab<4.3,>=4.2.0->notebook>=6.0->jupyter_contrib_nbextensions) (0.19.1)\n",
      "Requirement already satisfied: prompt-toolkit<3.1.0,>=3.0.41 in /home/samhmariam/miniconda3/envs/mlflow-8a775b8fb53b8ac0494c5e0a7fa9653f8ba5cb58/lib/python3.10/site-packages (from ipython>=7.23.1->ipykernel>=6.5.0->jupyterlab<4.3,>=4.2.0->notebook>=6.0->jupyter_contrib_nbextensions) (3.0.48)\n",
      "Requirement already satisfied: stack-data in /home/samhmariam/miniconda3/envs/mlflow-8a775b8fb53b8ac0494c5e0a7fa9653f8ba5cb58/lib/python3.10/site-packages (from ipython>=7.23.1->ipykernel>=6.5.0->jupyterlab<4.3,>=4.2.0->notebook>=6.0->jupyter_contrib_nbextensions) (0.6.2)\n",
      "Requirement already satisfied: pexpect>4.3 in /home/samhmariam/miniconda3/envs/mlflow-8a775b8fb53b8ac0494c5e0a7fa9653f8ba5cb58/lib/python3.10/site-packages (from ipython>=7.23.1->ipykernel>=6.5.0->jupyterlab<4.3,>=4.2.0->notebook>=6.0->jupyter_contrib_nbextensions) (4.9.0)\n",
      "Requirement already satisfied: fqdn in /home/samhmariam/miniconda3/envs/mlflow-8a775b8fb53b8ac0494c5e0a7fa9653f8ba5cb58/lib/python3.10/site-packages (from jsonschema[format-nongpl]>=4.18.0->jupyter-events>=0.9.0->jupyter-server->jupyter_nbextensions_configurator>=0.4.0->jupyter_contrib_nbextensions) (1.5.1)\n",
      "Requirement already satisfied: isoduration in /home/samhmariam/miniconda3/envs/mlflow-8a775b8fb53b8ac0494c5e0a7fa9653f8ba5cb58/lib/python3.10/site-packages (from jsonschema[format-nongpl]>=4.18.0->jupyter-events>=0.9.0->jupyter-server->jupyter_nbextensions_configurator>=0.4.0->jupyter_contrib_nbextensions) (20.11.0)\n",
      "Requirement already satisfied: jsonpointer>1.13 in /home/samhmariam/miniconda3/envs/mlflow-8a775b8fb53b8ac0494c5e0a7fa9653f8ba5cb58/lib/python3.10/site-packages (from jsonschema[format-nongpl]>=4.18.0->jupyter-events>=0.9.0->jupyter-server->jupyter_nbextensions_configurator>=0.4.0->jupyter_contrib_nbextensions) (3.0.0)\n",
      "Requirement already satisfied: uri-template in /home/samhmariam/miniconda3/envs/mlflow-8a775b8fb53b8ac0494c5e0a7fa9653f8ba5cb58/lib/python3.10/site-packages (from jsonschema[format-nongpl]>=4.18.0->jupyter-events>=0.9.0->jupyter-server->jupyter_nbextensions_configurator>=0.4.0->jupyter_contrib_nbextensions) (1.3.0)\n",
      "Requirement already satisfied: webcolors>=24.6.0 in /home/samhmariam/miniconda3/envs/mlflow-8a775b8fb53b8ac0494c5e0a7fa9653f8ba5cb58/lib/python3.10/site-packages (from jsonschema[format-nongpl]>=4.18.0->jupyter-events>=0.9.0->jupyter-server->jupyter_nbextensions_configurator>=0.4.0->jupyter_contrib_nbextensions) (24.8.0)\n",
      "Requirement already satisfied: six>=1.5 in /home/samhmariam/miniconda3/envs/mlflow-8a775b8fb53b8ac0494c5e0a7fa9653f8ba5cb58/lib/python3.10/site-packages (from python-dateutil>=2.8.2->jupyter-client>=7.4.4->jupyter-server->jupyter_nbextensions_configurator>=0.4.0->jupyter_contrib_nbextensions) (1.16.0)\n",
      "Requirement already satisfied: cffi>=1.0.1 in /home/samhmariam/miniconda3/envs/mlflow-8a775b8fb53b8ac0494c5e0a7fa9653f8ba5cb58/lib/python3.10/site-packages (from argon2-cffi-bindings->argon2-cffi>=21.1->jupyter-server->jupyter_nbextensions_configurator>=0.4.0->jupyter_contrib_nbextensions) (1.17.1)\n",
      "Requirement already satisfied: pycparser in /home/samhmariam/miniconda3/envs/mlflow-8a775b8fb53b8ac0494c5e0a7fa9653f8ba5cb58/lib/python3.10/site-packages (from cffi>=1.0.1->argon2-cffi-bindings->argon2-cffi>=21.1->jupyter-server->jupyter_nbextensions_configurator>=0.4.0->jupyter_contrib_nbextensions) (2.22)\n",
      "Requirement already satisfied: parso<0.9.0,>=0.8.3 in /home/samhmariam/miniconda3/envs/mlflow-8a775b8fb53b8ac0494c5e0a7fa9653f8ba5cb58/lib/python3.10/site-packages (from jedi>=0.16->ipython>=7.23.1->ipykernel>=6.5.0->jupyterlab<4.3,>=4.2.0->notebook>=6.0->jupyter_contrib_nbextensions) (0.8.4)\n",
      "Requirement already satisfied: wcwidth in /home/samhmariam/miniconda3/envs/mlflow-8a775b8fb53b8ac0494c5e0a7fa9653f8ba5cb58/lib/python3.10/site-packages (from prompt-toolkit<3.1.0,>=3.0.41->ipython>=7.23.1->ipykernel>=6.5.0->jupyterlab<4.3,>=4.2.0->notebook>=6.0->jupyter_contrib_nbextensions) (0.2.13)\n",
      "Requirement already satisfied: arrow>=0.15.0 in /home/samhmariam/miniconda3/envs/mlflow-8a775b8fb53b8ac0494c5e0a7fa9653f8ba5cb58/lib/python3.10/site-packages (from isoduration->jsonschema[format-nongpl]>=4.18.0->jupyter-events>=0.9.0->jupyter-server->jupyter_nbextensions_configurator>=0.4.0->jupyter_contrib_nbextensions) (1.3.0)\n",
      "Requirement already satisfied: executing>=1.2.0 in /home/samhmariam/miniconda3/envs/mlflow-8a775b8fb53b8ac0494c5e0a7fa9653f8ba5cb58/lib/python3.10/site-packages (from stack-data->ipython>=7.23.1->ipykernel>=6.5.0->jupyterlab<4.3,>=4.2.0->notebook>=6.0->jupyter_contrib_nbextensions) (2.1.0)\n",
      "Requirement already satisfied: asttokens>=2.1.0 in /home/samhmariam/miniconda3/envs/mlflow-8a775b8fb53b8ac0494c5e0a7fa9653f8ba5cb58/lib/python3.10/site-packages (from stack-data->ipython>=7.23.1->ipykernel>=6.5.0->jupyterlab<4.3,>=4.2.0->notebook>=6.0->jupyter_contrib_nbextensions) (2.4.1)\n",
      "Requirement already satisfied: pure-eval in /home/samhmariam/miniconda3/envs/mlflow-8a775b8fb53b8ac0494c5e0a7fa9653f8ba5cb58/lib/python3.10/site-packages (from stack-data->ipython>=7.23.1->ipykernel>=6.5.0->jupyterlab<4.3,>=4.2.0->notebook>=6.0->jupyter_contrib_nbextensions) (0.2.3)\n",
      "Requirement already satisfied: types-python-dateutil>=2.8.10 in /home/samhmariam/miniconda3/envs/mlflow-8a775b8fb53b8ac0494c5e0a7fa9653f8ba5cb58/lib/python3.10/site-packages (from arrow>=0.15.0->isoduration->jsonschema[format-nongpl]>=4.18.0->jupyter-events>=0.9.0->jupyter-server->jupyter_nbextensions_configurator>=0.4.0->jupyter_contrib_nbextensions) (2.9.0.20241003)\n",
      "Using cached jupyter_highlight_selected_word-0.2.0-py2.py3-none-any.whl (11 kB)\n",
      "Using cached jupyter_nbextensions_configurator-0.6.4-py2.py3-none-any.whl (466 kB)\n",
      "Using cached notebook-7.2.2-py3-none-any.whl (5.0 MB)\n",
      "Using cached ipython_genutils-0.2.0-py2.py3-none-any.whl (26 kB)\n",
      "Downloading lxml-5.3.0-cp310-cp310-manylinux_2_28_x86_64.whl (5.0 MB)\n",
      "\u001b[2K   \u001b[90m━━━━━━━━━━━━━━━━━━━━━━━━━━━━━━━━━━━━━━━━\u001b[0m \u001b[32m5.0/5.0 MB\u001b[0m \u001b[31m3.7 MB/s\u001b[0m eta \u001b[36m0:00:00\u001b[0m00:01\u001b[0m00:01\u001b[0m\n",
      "\u001b[?25hUsing cached jupyterlab-4.2.5-py3-none-any.whl (11.6 MB)\n",
      "Downloading jupyterlab_server-2.27.3-py3-none-any.whl (59 kB)\n",
      "\u001b[2K   \u001b[90m━━━━━━━━━━━━━━━━━━━━━━━━━━━━━━━━━━━━━━━━\u001b[0m \u001b[32m59.7/59.7 kB\u001b[0m \u001b[31m1.3 MB/s\u001b[0m eta \u001b[36m0:00:00\u001b[0ma \u001b[36m0:00:01\u001b[0m\n",
      "\u001b[?25hUsing cached httpx-0.27.2-py3-none-any.whl (76 kB)\n",
      "Using cached httpcore-1.0.6-py3-none-any.whl (78 kB)\n",
      "Using cached requests-2.32.3-py3-none-any.whl (64 kB)\n",
      "Using cached h11-0.14.0-py3-none-any.whl (58 kB)\n",
      "Building wheels for collected packages: jupyter_contrib_nbextensions, jupyter_contrib_core\n",
      "  Building wheel for jupyter_contrib_nbextensions (setup.py) ... \u001b[?25ldone\n",
      "\u001b[?25h  Created wheel for jupyter_contrib_nbextensions: filename=jupyter_contrib_nbextensions-0.7.0-py2.py3-none-any.whl size=23428776 sha256=108c4010ca9b3588dad5c863e0ef8147d3af295b3146898cd305e0030a307490\n",
      "  Stored in directory: /home/samhmariam/.cache/pip/wheels/ea/cc/7d/99ef154f984726b1201c0f72cfe9c9d7c5132c1a2ae4d8677f\n",
      "  Building wheel for jupyter_contrib_core (setup.py) ... \u001b[?25ldone\n",
      "\u001b[?25h  Created wheel for jupyter_contrib_core: filename=jupyter_contrib_core-0.4.2-py2.py3-none-any.whl size=17484 sha256=4ffa9d4b68a45028c96ff6d46da4b2e21da8e45109aa6e1e6227ad451c6a9a8d\n",
      "  Stored in directory: /home/samhmariam/.cache/pip/wheels/a9/52/88/e0643cdfd68f0562087918c37dd583378648dbc3df68b907f7\n",
      "Successfully built jupyter_contrib_nbextensions jupyter_contrib_core\n",
      "Installing collected packages: jupyter_highlight_selected_word, ipython_genutils, requests, lxml, h11, httpcore, httpx, jupyterlab-server, jupyterlab, notebook, jupyter_contrib_core, jupyter_nbextensions_configurator, jupyter_contrib_nbextensions\n",
      "  Attempting uninstall: requests\n",
      "    Found existing installation: requests 2.28.2\n",
      "    Uninstalling requests-2.28.2:\n",
      "      Successfully uninstalled requests-2.28.2\n",
      "  Attempting uninstall: jupyterlab-server\n",
      "    Found existing installation: jupyterlab_server 2.24.0\n",
      "    Uninstalling jupyterlab_server-2.24.0:\n",
      "      Successfully uninstalled jupyterlab_server-2.24.0\n",
      "  Attempting uninstall: jupyterlab\n",
      "    Found existing installation: jupyterlab 4.0.9\n",
      "    Uninstalling jupyterlab-4.0.9:\n",
      "      Successfully uninstalled jupyterlab-4.0.9\n",
      "\u001b[31mERROR: pip's dependency resolver does not currently take into account all the packages that are installed. This behaviour is the source of the following dependency conflicts.\n",
      "pandas-profiling 3.4.0 requires requests<2.29,>=2.24.0, but you have requests 2.32.3 which is incompatible.\u001b[0m\u001b[31m\n",
      "\u001b[0mSuccessfully installed h11-0.14.0 httpcore-1.0.6 httpx-0.27.2 ipython_genutils-0.2.0 jupyter_contrib_core-0.4.2 jupyter_contrib_nbextensions-0.7.0 jupyter_highlight_selected_word-0.2.0 jupyter_nbextensions_configurator-0.6.4 jupyterlab-4.2.5 jupyterlab-server-2.27.3 lxml-5.3.0 notebook-7.2.2 requests-2.32.3\n"
     ]
    }
   ],
   "source": [
    "!pip install jupyter_contrib_nbextensions"
   ]
  },
  {
   "cell_type": "code",
   "execution_count": 9,
   "id": "72462bdd-a94e-43ec-bf30-f7a78b9f4594",
   "metadata": {},
   "outputs": [
    {
     "name": "stdout",
     "output_type": "stream",
     "text": [
      "usage: jupyter [-h] [--version] [--config-dir] [--data-dir] [--runtime-dir]\n",
      "               [--paths] [--json] [--debug]\n",
      "               [subcommand]\n",
      "\n",
      "Jupyter: Interactive Computing\n",
      "\n",
      "positional arguments:\n",
      "  subcommand     the subcommand to launch\n",
      "\n",
      "options:\n",
      "  -h, --help     show this help message and exit\n",
      "  --version      show the versions of core jupyter packages and exit\n",
      "  --config-dir   show Jupyter config dir\n",
      "  --data-dir     show Jupyter data dir\n",
      "  --runtime-dir  show Jupyter runtime dir\n",
      "  --paths        show all Jupyter paths. Add --json for machine-readable\n",
      "                 format.\n",
      "  --json         output paths as machine-readable json\n",
      "  --debug        output debug information about paths\n",
      "\n",
      "Available subcommands: contrib dejavu events execute kernel kernel.exe\n",
      "kernelspec kernelspec.exe lab labextension labhub migrate migrate.exe\n",
      "nbconvert nbextensions_configurator notebook run run.exe script.py server\n",
      "troubleshoot troubleshoot.exe trust\n",
      "\n",
      "Jupyter command `jupyter-nbextension` not found.\n"
     ]
    }
   ],
   "source": [
    "!jupyter nbextension enable --py widgetsnbextension"
   ]
  },
  {
   "cell_type": "code",
   "execution_count": 10,
   "id": "58a85e7b-a34e-4321-88bc-e2025db6b83b",
   "metadata": {},
   "outputs": [
    {
     "name": "stderr",
     "output_type": "stream",
     "text": [
      "Summarize dataset: 100%|█████████████████████████████████████████████████| 132/132 [00:34<00:00,  3.82it/s, Completed]\n",
      "Generate report structure: 100%|████████████████████████████████████████████████████████| 1/1 [00:10<00:00, 10.53s/it]\n",
      "                                                                                                                      \r"
     ]
    },
    {
     "data": {
      "application/vnd.jupyter.widget-view+json": {
       "model_id": "d7406701a4e34de89a73f109d08fa2b3",
       "version_major": 2,
       "version_minor": 0
      },
      "text/plain": [
       "VBox(children=(Tab(children=(Tab(children=(GridBox(children=(VBox(children=(GridspecLayout(children=(HTML(valu…"
      ]
     },
     "metadata": {},
     "output_type": "display_data"
    }
   ],
   "source": [
    "profile = pandas_profiling.ProfileReport(df)\n",
    "profile.to_widgets()"
   ]
  },
  {
   "cell_type": "code",
   "execution_count": 11,
   "id": "1c40a22b-1b59-48e0-b4e8-2c1192a9d201",
   "metadata": {},
   "outputs": [],
   "source": [
    "# Drop outliers\n",
    "min_price = 10\n",
    "max_price = 350"
   ]
  },
  {
   "cell_type": "code",
   "execution_count": 12,
   "id": "0e14cb85-73a8-4d68-b67f-2d2c12cf4590",
   "metadata": {},
   "outputs": [],
   "source": [
    "idx = df['price'].between(min_price, max_price)\n",
    "df = df[idx].copy()"
   ]
  },
  {
   "cell_type": "code",
   "execution_count": 13,
   "id": "f8c92408-a48b-4023-ac17-13af3afff109",
   "metadata": {},
   "outputs": [],
   "source": [
    "# convert last_review to datetime\n",
    "df['last_review'] = pd.to_datetime(df['last_review'])"
   ]
  },
  {
   "cell_type": "code",
   "execution_count": 14,
   "id": "cdfc302e-1d03-4ad2-a491-16744a618abb",
   "metadata": {},
   "outputs": [
    {
     "name": "stdout",
     "output_type": "stream",
     "text": [
      "<class 'pandas.core.frame.DataFrame'>\n",
      "Int64Index: 19001 entries, 0 to 19999\n",
      "Data columns (total 16 columns):\n",
      " #   Column                          Non-Null Count  Dtype         \n",
      "---  ------                          --------------  -----         \n",
      " 0   id                              19001 non-null  int64         \n",
      " 1   name                            18994 non-null  object        \n",
      " 2   host_id                         19001 non-null  int64         \n",
      " 3   host_name                       18993 non-null  object        \n",
      " 4   neighbourhood_group             19001 non-null  object        \n",
      " 5   neighbourhood                   19001 non-null  object        \n",
      " 6   latitude                        19001 non-null  float64       \n",
      " 7   longitude                       19001 non-null  float64       \n",
      " 8   room_type                       19001 non-null  object        \n",
      " 9   price                           19001 non-null  int64         \n",
      " 10  minimum_nights                  19001 non-null  int64         \n",
      " 11  number_of_reviews               19001 non-null  int64         \n",
      " 12  last_review                     15243 non-null  datetime64[ns]\n",
      " 13  reviews_per_month               15243 non-null  float64       \n",
      " 14  calculated_host_listings_count  19001 non-null  int64         \n",
      " 15  availability_365                19001 non-null  int64         \n",
      "dtypes: datetime64[ns](1), float64(3), int64(7), object(5)\n",
      "memory usage: 2.5+ MB\n"
     ]
    }
   ],
   "source": [
    "df.info()"
   ]
  },
  {
   "cell_type": "code",
   "execution_count": 15,
   "id": "b387e795-092c-48a8-a533-8b2ba0fba2ca",
   "metadata": {},
   "outputs": [
    {
     "data": {
      "text/html": [
       " View run <strong style=\"color:#cdcd00\">snowy-snowflake-7</strong> at: <a href='https://wandb.ai/samhmariam/nyc_airbnb/runs/5wghwekt' target=\"_blank\">https://wandb.ai/samhmariam/nyc_airbnb/runs/5wghwekt</a><br/> View job at <a href='https://wandb.ai/samhmariam/nyc_airbnb/jobs/QXJ0aWZhY3RDb2xsZWN0aW9uOjQ4Mzk4NzUyNA==/version_details/v3' target=\"_blank\">https://wandb.ai/samhmariam/nyc_airbnb/jobs/QXJ0aWZhY3RDb2xsZWN0aW9uOjQ4Mzk4NzUyNA==/version_details/v3</a><br/>Synced 7 W&B file(s), 0 media file(s), 14 artifact file(s) and 1 other file(s)"
      ],
      "text/plain": [
       "<IPython.core.display.HTML object>"
      ]
     },
     "metadata": {},
     "output_type": "display_data"
    },
    {
     "data": {
      "text/html": [
       "Find logs at: <code>./wandb/run-20241102_154740-5wghwekt/logs</code>"
      ],
      "text/plain": [
       "<IPython.core.display.HTML object>"
      ]
     },
     "metadata": {},
     "output_type": "display_data"
    }
   ],
   "source": [
    "run.finish()"
   ]
  },
  {
   "cell_type": "code",
   "execution_count": null,
   "id": "faaf7d61-1d0f-44ff-b7e7-70c309f61b97",
   "metadata": {},
   "outputs": [],
   "source": []
  }
 ],
 "metadata": {
  "kernelspec": {
   "display_name": "Python 3 (ipykernel)",
   "language": "python",
   "name": "python3"
  },
  "language_info": {
   "codemirror_mode": {
    "name": "ipython",
    "version": 3
   },
   "file_extension": ".py",
   "mimetype": "text/x-python",
   "name": "python",
   "nbconvert_exporter": "python",
   "pygments_lexer": "ipython3",
   "version": "3.10.15"
  }
 },
 "nbformat": 4,
 "nbformat_minor": 5
}
